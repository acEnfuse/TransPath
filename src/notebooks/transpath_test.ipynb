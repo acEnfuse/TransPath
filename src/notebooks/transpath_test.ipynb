{
 "cells": [
  {
   "cell_type": "code",
   "execution_count": 1,
   "metadata": {},
   "outputs": [],
   "source": [
    "import numpy as np\n",
    "import xml.etree.ElementTree as ET\n",
    "from PIL import Image\n",
    "import xml.dom.minidom as minidom"
   ]
  },
  {
   "cell_type": "code",
   "execution_count": 2,
   "metadata": {},
   "outputs": [],
   "source": [
    "# Converts image to 64x64\n",
    "def resize_and_pad(image_path, output_path, target_size=(64, 64)):\n",
    "    img = Image.open(image_path)\n",
    "    original_width, original_height = img.size\n",
    "    aspect_ratio = original_width / original_height\n",
    "\n",
    "    if aspect_ratio > 1:\n",
    "        new_width = target_size[0]\n",
    "        new_height = round(target_size[0] / aspect_ratio)\n",
    "    else:\n",
    "        new_width = round(target_size[1] * aspect_ratio)\n",
    "        new_height = target_size[1]\n",
    "\n",
    "    img = img.resize((new_width, new_height), Image.Resampling.LANCZOS)\n",
    "    padded_img = Image.new(\"RGB\", target_size, color=\"black\")\n",
    "    padded_img.paste(img, ((target_size[0] - new_width) // 2, (target_size[1] - new_height) // 2))\n",
    "    padded_img.save(output_path)"
   ]
  },
  {
   "cell_type": "code",
   "execution_count": 8,
   "metadata": {},
   "outputs": [
    {
     "name": "stdout",
     "output_type": "stream",
     "text": [
      "Image created successfully!\n"
     ]
    }
   ],
   "source": [
    "from PIL import Image\n",
    "\n",
    "def create_image(width, height, point_x, point_y, output_path, filename):\n",
    "    image = Image.new('RGB', (width, height), 'black')\n",
    "    pixels = image.load()\n",
    "    pixels[point_x, point_y] = (255, 255, 255)  # white pixel at the specified position\n",
    "    filepath = output_path + filename + '.png'\n",
    "    image.save(filepath, 'PNG')\n",
    "    print('Image created successfully!')\n",
    "\n",
    "# Input values\n",
    "width = 64\n",
    "height = 128\n",
    "point_x = 37\n",
    "point_y = 55\n",
    "output_path = './images/'\n",
    "filename = 'test'\n",
    "\n",
    "point_img = create_image(width, height, point_x, point_y, output_path, filename)"
   ]
  },
  {
   "cell_type": "code",
   "execution_count": 3,
   "metadata": {},
   "outputs": [
    {
     "name": "stdout",
     "output_type": "stream",
     "text": [
      "[0 0 0 0 0 0 0 0 0 0 0 0 0 0 0 0 0 0 0 0 0 0 0 0 1 1 1 1 0 0 0 0 0 0 1 0 0\n",
      " 0 0 0 0 0 0 0 0 0 0 0 0 0 0 0 0 0 0 0 0 0 0 0 0 0 0 0]\n"
     ]
    }
   ],
   "source": [
    "import pandas as pd\n",
    "\n",
    "pd.options.display.max_seq_items = 2000\n",
    "\n",
    "def convert_image_to_array(image_path):\n",
    "    # Open the image and convert it to grayscale\n",
    "    image = Image.open(image_path).convert('L')\n",
    "\n",
    "    # Convert the image to a NumPy array\n",
    "    img_array = np.array(image)\n",
    "\n",
    "    # Threshold the image to create a binary array (0 or 1)\n",
    "    threshold_value = 128\n",
    "    binary_array = (img_array > threshold_value).astype(int)\n",
    "\n",
    "    return binary_array\n",
    "\n",
    "\n",
    "image_path = './images/binary_mask_output.png'\n",
    "binary_array  = convert_image_to_array(image_path)\n",
    "print(binary_array[32])"
   ]
  },
  {
   "cell_type": "code",
   "execution_count": 141,
   "metadata": {},
   "outputs": [],
   "source": [
    "# Open the padded image\n",
    "img = Image.open('./images/binary_mask_output.png')\n",
    "\n",
    "# Convert to grayscale\n",
    "img_gray = img.convert('L')\n",
    "\n",
    "# Threshold to get a binary image\n",
    "threshold = 128\n",
    "img_binary = img_gray.point(lambda p: p > threshold and 1)\n",
    "\n",
    "# Convert to numpy array\n",
    "map_array = np.asarray(img_binary)\n",
    "\n",
    "# Create an all-zero array of the same dimensions\n",
    "heatmap_array = np.zeros_like(map_array)"
   ]
  },
  {
   "cell_type": "code",
   "execution_count": 142,
   "metadata": {},
   "outputs": [],
   "source": [
    "def generate_xml(start_x, start_y, goal_x, goal_y, height, width, map_array, heatmap_array):\n",
    "    root = ET.Element(\"root\")\n",
    "\n",
    "    # Adding map dimensions and start/goal positions\n",
    "    map_element = ET.SubElement(root, \"map\")\n",
    "    ET.SubElement(map_element, \"startx\").text = str(start_x)\n",
    "    ET.SubElement(map_element, \"starty\").text = str(start_y)\n",
    "    ET.SubElement(map_element, \"goalx\").text = str(goal_x)\n",
    "    ET.SubElement(map_element, \"goaly\").text = str(goal_y)\n",
    "    ET.SubElement(map_element, \"width\").text = str(width)\n",
    "    ET.SubElement(map_element, \"height\").text = str(height)\n",
    "\n",
    "    # Adding binary 2d array\n",
    "    grid = ET.SubElement(map_element, \"grid\")\n",
    "    for row in map_array:\n",
    "        row_element = ET.SubElement(grid, \"row\")\n",
    "        row_element.text = ' '.join(map(str, row))\n",
    "\n",
    "    # Adding heatmap dimensions\n",
    "    heatmap = ET.SubElement(root, \"heatmap\")\n",
    "    ET.SubElement(heatmap, \"width\").text = str(width)\n",
    "    ET.SubElement(heatmap, \"height\").text = str(height)\n",
    "\n",
    "    # Adding 2d heat map array\n",
    "    grid = ET.SubElement(heatmap, \"grid\")\n",
    "    for row in heatmap_array:\n",
    "        row_element = ET.SubElement(grid, \"row\")\n",
    "        row_element.text = ' '.join(map(str, row))\n",
    "\n",
    "    # Creating XML file\n",
    "    tree = ET.ElementTree(root)\n",
    "    ET.indent(tree, space='\\t', level=0)\n",
    "\n",
    "    # Saving XML file \n",
    "    tree.write(\"./maps/heatmap_0_k.xml\", encoding=\"utf-8\", xml_declaration=True)\n",
    "\n",
    "generate_xml(10, 10, 34, 54, 64, 64, map_array, heatmap_array)"
   ]
  }
 ],
 "metadata": {
  "kernelspec": {
   "display_name": "wayfinding-env",
   "language": "python",
   "name": "python3"
  },
  "language_info": {
   "codemirror_mode": {
    "name": "ipython",
    "version": 3
   },
   "file_extension": ".py",
   "mimetype": "text/x-python",
   "name": "python",
   "nbconvert_exporter": "python",
   "pygments_lexer": "ipython3",
   "version": "3.11.7"
  }
 },
 "nbformat": 4,
 "nbformat_minor": 2
}
